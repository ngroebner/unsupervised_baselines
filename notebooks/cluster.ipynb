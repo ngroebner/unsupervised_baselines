{
 "cells": [
  {
   "cell_type": "markdown",
   "metadata": {},
   "source": [
    "# Code structure for the clustering project"
   ]
  },
  {
   "cell_type": "markdown",
   "metadata": {},
   "source": [
    "Parts/steps\n",
    "\n",
    "1. Datasets\n",
    "    - Combined waveform data as numpy array with labels as integers\n",
    "    - either pandas dataframe or class like a pytorch dataset\n",
    "    - yields the waveforms and labels as needed\n",
    "2. Preprocess\n",
    "    - Takes a dataset, parameters and yields transformed waveforms\n",
    "    - Any filtering or other processing applied to the dataset uniformly before clustering\n",
    "3. Cluster\n",
    "    - Takes transformed waveforms, parameters and yields predicted cluster assignments\n",
    "    - May be broken into parts based on model (e.g. create features, calculate distances, do clustering and prediction, etc)\n",
    "4. Evaluate\n",
    "    - Takes predicted cluster assignments and true cluster assignments, calculates metrics.\n",
    "    - Accuracy, nmi, ami, etc\n",
    "5. Report\n",
    "    - Takes metrics and produces human readable report\n",
    "\n",
    "\n",
    "## Pipeline\n",
    "\n",
    "    for dataset in Datasets:\n",
    "\n",
    "        Preprocess dataset\n",
    "\n",
    "        for method in Clustering_Methods:\n",
    "\n",
    "            for hyperparameters:\n",
    "\n",
    "                cluster preprocessed dataset\n",
    "\n",
    "                evaluate clusters\n",
    "\n",
    "Report\n",
    "\n",
    "If we are doing hyperparameter tuning, do we tune based on true cluster labels (seems too contrived) or by some other goodness of fit like silhouette score\n",
    "\n"
   ]
  },
  {
   "cell_type": "markdown",
   "metadata": {},
   "source": [
    "## Dataset\n",
    "\n",
    "Should have a single class that takes the name of a dataset as a string and then loads in the data as waveforms and labels"
   ]
  },
  {
   "cell_type": "code",
   "execution_count": 1,
   "metadata": {},
   "outputs": [],
   "source": [
    "class Dataset:\n",
    "\n",
    "    def __init__(self, dataset_name):\n",
    "        self.dataset_name = dataset_name\n",
    "        # load dataset based on name\n",
    "\n",
    "        self.waveforms = None\n",
    "        self.labels = None"
   ]
  },
  {
   "cell_type": "markdown",
   "metadata": {},
   "source": [
    "## Preprocess"
   ]
  },
  {
   "cell_type": "code",
   "execution_count": null,
   "metadata": {},
   "outputs": [],
   "source": [
    "class Preprocess:\n",
    "    \"\"\"Abstract base class for dataset transformer\"\"\"\n",
    "\n",
    "    def __init__(self, mlflow_server, *args, **kwargs):\n",
    "        self.mlfow_server = mlflow_server\n",
    "        pass\n",
    "\n",
    "    def transform(self, dataset):\n",
    "        # take dataset as an argument and return a transformed dataset\n",
    "        raise NotImplementedError\n",
    "\n"
   ]
  },
  {
   "cell_type": "markdown",
   "metadata": {},
   "source": [
    "## Clustering method"
   ]
  },
  {
   "cell_type": "code",
   "execution_count": null,
   "metadata": {},
   "outputs": [],
   "source": [
    "class ClusteringMethod:\n",
    "    \"\"\"Abstract base class for clustering methods\"\"\"\n",
    "\n",
    "    def __init__(self, mlflow_server, *args, **kwargs):\n",
    "        self.mlfow_server = mlflow_server\n",
    "        raise NotImplementedError\n",
    "\n",
    "    def run(self, dataset):\n",
    "        \"\"\"Should take a dataset and return cluster assignments\n",
    "        Can do whatever it needs in between to get there.\n",
    "        \"\"\"\n",
    "        raise NotImplementedError"
   ]
  },
  {
   "cell_type": "markdown",
   "metadata": {},
   "source": [
    "## Evaluate"
   ]
  },
  {
   "cell_type": "code",
   "execution_count": null,
   "metadata": {},
   "outputs": [],
   "source": [
    "def evaluate(dataset, predicted_clusters):\n",
    "    true_clusters = dataset.labels\n",
    "    # Calc and return a bunch of metrics here"
   ]
  }
 ],
 "metadata": {
  "interpreter": {
   "hash": "3511e801b2f340e83c5ba72660cf49523125e3cb080787dcb04c93b42f3d1af8"
  },
  "kernelspec": {
   "display_name": "Python 3.9.10 ('unsupervised_baseline')",
   "language": "python",
   "name": "python3"
  },
  "language_info": {
   "codemirror_mode": {
    "name": "ipython",
    "version": 3
   },
   "file_extension": ".py",
   "mimetype": "text/x-python",
   "name": "python",
   "nbconvert_exporter": "python",
   "pygments_lexer": "ipython3",
   "version": "3.9.10"
  },
  "orig_nbformat": 4
 },
 "nbformat": 4,
 "nbformat_minor": 2
}
