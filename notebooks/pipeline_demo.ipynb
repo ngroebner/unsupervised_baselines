{
 "cells": [
  {
   "cell_type": "markdown",
   "metadata": {},
   "source": [
    "# Demo Pipeline method from scikit learn\n",
    "\n",
    "Basic usage\n",
    "\n",
    "Use with Dask for scaling pipelines"
   ]
  },
  {
   "cell_type": "code",
   "execution_count": 1,
   "metadata": {},
   "outputs": [],
   "source": [
    "%matplotlib inline\n",
    "import matplotlib.pyplot as plt\n",
    "import numpy as np\n",
    "from sklearn.pipeline import Pipeline\n"
   ]
  },
  {
   "cell_type": "code",
   "execution_count": 19,
   "metadata": {},
   "outputs": [],
   "source": [
    "class Transformer:\n",
    "    def __init__(self, a):\n",
    "        self.a = a\n",
    "    def fit(self, X=None, y=None):\n",
    "        return self\n",
    "    def transform(self, x):\n",
    "        return self.a * x\n",
    "\n",
    "class Predictor:\n",
    "    def __init__(self, b):\n",
    "        self.b = b\n",
    "    def fit(self, X=None, y=None):\n",
    "        return self\n",
    "    def predict(self, x):\n",
    "        return self.b + x\n"
   ]
  },
  {
   "cell_type": "code",
   "execution_count": 24,
   "metadata": {},
   "outputs": [],
   "source": [
    "pipeline = Pipeline(steps=[\n",
    "    (\"transformer\", Transformer(a=2)),\n",
    "    (\"predictor\", Predictor(b=3))\n",
    "])"
   ]
  },
  {
   "cell_type": "code",
   "execution_count": 29,
   "metadata": {},
   "outputs": [
    {
     "data": {
      "text/plain": [
       "3"
      ]
     },
     "execution_count": 29,
     "metadata": {},
     "output_type": "execute_result"
    }
   ],
   "source": [
    "pipeline.predict(0)"
   ]
  },
  {
   "cell_type": "code",
   "execution_count": null,
   "metadata": {},
   "outputs": [],
   "source": []
  }
 ],
 "metadata": {
  "interpreter": {
   "hash": "3511e801b2f340e83c5ba72660cf49523125e3cb080787dcb04c93b42f3d1af8"
  },
  "kernelspec": {
   "display_name": "Python 3.9.10 ('unsupervised_baseline')",
   "language": "python",
   "name": "python3"
  },
  "language_info": {
   "codemirror_mode": {
    "name": "ipython",
    "version": 3
   },
   "file_extension": ".py",
   "mimetype": "text/x-python",
   "name": "python",
   "nbconvert_exporter": "python",
   "pygments_lexer": "ipython3",
   "version": "3.9.10"
  },
  "orig_nbformat": 4
 },
 "nbformat": 4,
 "nbformat_minor": 2
}
